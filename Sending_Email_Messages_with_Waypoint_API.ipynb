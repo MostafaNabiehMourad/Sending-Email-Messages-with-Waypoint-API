{
  "nbformat": 4,
  "nbformat_minor": 0,
  "metadata": {
    "colab": {
      "provenance": []
    },
    "kernelspec": {
      "name": "python3",
      "display_name": "Python 3"
    },
    "language_info": {
      "name": "python"
    }
  },
  "cells": [
    {
      "cell_type": "code",
      "source": [
        "import requests\n",
        "import json\n",
        "API_KEY_USERNAME = '6502cb4ef4894514f7e37b16'\n",
        "API_KEY_PASSWORD = 'egjiDt2VneCK4iF3vNZAfHm7'\n",
        "\n",
        "url = 'https://live.waypointapi.com/v1/email_messages'\n",
        "\n",
        "headers = {\n",
        "    'Content-Type':'application/json'\n",
        "}\n",
        "auth = (API_KEY_USERNAME,API_KEY_PASSWORD)\n",
        "data = {\n",
        "    'templateId': 'wptemplate_8ZmEmDCzP6qdFTqw',\n",
        "    'to':'mostafa.mouradai@gmail.com',\n",
        "    'variables': {\n",
        "          \"amount\": \"$50.00\",\n",
        "          \"refund_id\": \"09234p29384\",\n",
        "          \"survey_url\": \"https://survey.com\",\n",
        "          \"display_name\": \"Mostafa Nabieh\"\n",
        "        }\n",
        "}\n",
        "\n",
        "respone = requests.post(url,headers=headers,auth= auth,data=json.dumps(data))"
      ],
      "metadata": {
        "id": "9e10OMWwF8cD"
      },
      "execution_count": 17,
      "outputs": []
    },
    {
      "cell_type": "code",
      "source": [
        "respone.text"
      ],
      "metadata": {
        "id": "sq3qMbeNJDbq",
        "outputId": "a45f5bb6-6075-4435-ef95-b870d082fa3f",
        "colab": {
          "base_uri": "https://localhost:8080/",
          "height": 70
        }
      },
      "execution_count": 18,
      "outputs": [
        {
          "output_type": "execute_result",
          "data": {
            "text/plain": [
              "'{\"data\":{\"id\":\"em_ye13jdHHbPXoKTM4\",\"type\":\"EmailMessage\",\"createdAt\":\"2023-09-14T09:15:05.609Z\",\"updatedAt\":\"2023-09-14T09:15:05.609Z\",\"source\":\"API\",\"status\":\"PENDING\",\"processedAt\":null,\"waypointTemplateId\":\"wptemplate_8ZmEmDCzP6qdFTqw\",\"variables\":{\"amount\":\"$50.00\",\"refund_id\":\"09234p29384\",\"survey_url\":\"https://survey.com\",\"display_name\":\"Mostafa Nabieh\"}}}'"
            ],
            "application/vnd.google.colaboratory.intrinsic+json": {
              "type": "string"
            }
          },
          "metadata": {},
          "execution_count": 18
        }
      ]
    }
  ]
}